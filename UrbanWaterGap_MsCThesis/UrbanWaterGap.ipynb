{
 "cells": [
  {
   "cell_type": "code",
   "execution_count": null,
   "id": "969249d8",
   "metadata": {},
   "outputs": [],
   "source": [
    "import numpy as np\n",
    "import pandas as pd\n",
    "import matplotlib.pyplot as plt\n",
    "from scipy import stats\n",
    "from scipy.stats import gmean"
   ]
  },
  {
   "cell_type": "code",
   "execution_count": null,
   "id": "a8661099",
   "metadata": {},
   "outputs": [],
   "source": [
    "def df_from_csv(file):\n",
    "    df = pd.read_csv(file, header = 1)\n",
    "    return df"
   ]
  },
  {
   "cell_type": "code",
   "execution_count": null,
   "id": "9cdd0b93",
   "metadata": {},
   "outputs": [],
   "source": [
    "def remove_negatives(df):\n",
    "    #df is a row from a multi-cuty timeseries dataframe\n",
    "    for i, d in enumerate(df):\n",
    "        if df[i]<=0:\n",
    "            df[i]=0\n",
    "        else:\n",
    "            df[i]=df[i]\n",
    "    return df"
   ]
  },
  {
   "cell_type": "code",
   "execution_count": null,
   "id": "756beb9d",
   "metadata": {},
   "outputs": [],
   "source": [
    "def find_seq_maxs(df):\n",
    "    #df is a row from a multi-cuty timeseries dataframe\n",
    "    peaks = 0\n",
    "    seq_max = 0\n",
    "    maximums = []\n",
    "    for i, d in enumerate(df):\n",
    "        if i < len(df) - 1:\n",
    "            if df[i] == 0:\n",
    "                maximums.append(seq_max) #when a sequence of non-zeros ends capture recorded maximum of the sequence\n",
    "                seq_max = 0\n",
    "                if df[i+1] != 0:\n",
    "                    peaks += 1\n",
    "            elif df[i] > 0:\n",
    "                if df[i+1] != 0:\n",
    "                    maximum = max(df[i], df[i+1])\n",
    "                    if maximum > seq_max:\n",
    "                        seq_max = maximum #record new sequence maximum\n",
    "                    else:\n",
    "                        pass\n",
    "                else:\n",
    "                    if df[i-1] == 0:\n",
    "                        seq_max = df[i]\n",
    "            else:\n",
    "                i += 1\n",
    "        else:\n",
    "            seq_max = max(seq_max,df[-1])\n",
    "            maximums.append(seq_max)\n",
    "    maximums = [i for i in maximums if i != 0]\n",
    "    return maximums, peaks"
   ]
  },
  {
   "cell_type": "code",
   "execution_count": null,
   "id": "d024c2da",
   "metadata": {},
   "outputs": [],
   "source": [
    "def transitions_count(df): #probability FF\n",
    "    #df is a row from a multi-cuty timeseries dataframe\n",
    "    FF = 0\n",
    "    FAll = 0\n",
    "    maximums = []\n",
    "    for i, d in enumerate(df):\n",
    "        if i < len(df) - 1:\n",
    "            if df[i] == 0:\n",
    "                pass\n",
    "            elif df[i] > 0:\n",
    "                FAll += 1\n",
    "                if df[i+1] != 0:\n",
    "                    FF += 1\n",
    "            else:\n",
    "                i += 1\n",
    "        else:\n",
    "            pass\n",
    "    return FF, FAll"
   ]
  },
  {
   "cell_type": "code",
   "execution_count": null,
   "id": "7e75d012",
   "metadata": {},
   "outputs": [],
   "source": [
    "#Open file and reorder\n",
    "df=pd.read_csv('UrbanWloupe_storage.csv', header=None).drop([0]).T\n",
    "df.columns=df.iloc[0]\n",
    "df=df[1:].rename(columns={\"area_id\": \"date\"})\n",
    "#df=df.rename(columns={\"area_id\": \"date\"})\n",
    "#df=df[1:]\n",
    "df['date'] =  pd.to_datetime(df['date'], dayfirst=True)\n",
    "df.index=df['date']\n",
    "df=df.drop(axis=1, labels='date').astype(float, errors = 'raise')\n",
    "df\n"
   ]
  },
  {
   "cell_type": "code",
   "execution_count": null,
   "id": "a1c0a198",
   "metadata": {},
   "outputs": [],
   "source": [
    "#Define simulated period and calculate the relevant timeseries parameters\n",
    "y_start=1981\n",
    "y_end=2010\n",
    "stor_df=df.loc[str(y_start):str(y_end)]\n",
    "years=np.arange(y_start, y_end+1, 1, dtype=None)\n",
    "average_min=[]\n",
    "range=[]\n",
    "for col in stor_df.columns:\n",
    "    print(col)\n",
    "    cit = stor_df[str(col)] \n",
    "    range.append(np.ptp(cit,axis=0)) \n",
    "    minimums=[]\n",
    "    lowflow_month=[]\n",
    "    for y in years:\n",
    "        ins=cit.loc[str(y)]\n",
    "        y_min=min(ins)\n",
    "        y_max=max(ins)\n",
    "        lowflow_month.append(np.isin(ins,y_min))\n",
    "    lowestflows=np.where(sum(lowflow_month)==max(sum(lowflow_month)))\n",
    "    if lowestflows[0][0]<=6:\n",
    "        cit_wy_series = cit.index.year.where(cit.index.month-1 <= (lowestflows[0][0]+5), cit.index.year+1)\n",
    "    else:\n",
    "        cit_wy_series = cit.index.year.where(cit.index.month-1+12 > (lowestflows[0][0]+5), cit.index.year-1)\n",
    "    frame = { 'WaterYear':cit_wy_series ,'Storage': cit}\n",
    "    cit_wy = pd.DataFrame(frame)\n",
    "    for y in years:\n",
    "        select_wy=np.where(cit_wy.WaterYear==y)\n",
    "        ins2=cit_wy.iloc[select_wy[0][0]:select_wy[0][-1]+1,1]\n",
    "        y_min_wy=min(ins2)    \n",
    "        minimums.append(y_min_wy)\n",
    "    average_min.append(np.mean(minimums))\n",
    "wg_raw=average_min-stor_df\n",
    "\n",
    "\n",
    "   "
   ]
  },
  {
   "cell_type": "code",
   "execution_count": null,
   "id": "358584b7",
   "metadata": {},
   "outputs": [],
   "source": [
    "#Calculate water gap from interim water gap with negatives\n",
    "wg=[]\n",
    "for col in stor_df.columns:\n",
    "    citwg = wg_raw[str(col)]\n",
    "    wg_i=remove_negatives(citwg)\n",
    "    wg.append(wg_i)\n",
    "    \n",
    "wg_df=pd.DataFrame(data=np.transpose(wg),index=stor_df.index, columns=stor_df.columns)"
   ]
  },
  {
   "cell_type": "code",
   "execution_count": null,
   "id": "bdd5d5a3",
   "metadata": {},
   "outputs": [],
   "source": [
    "#Generate a normalizer for the WG and normalize WG\n",
    "normalizer=np.array(range)\n",
    "wg_norm=np.divide(np.array(wg_df),np.array(normalizer))"
   ]
  },
  {
   "cell_type": "code",
   "execution_count": null,
   "id": "907dca5b",
   "metadata": {},
   "outputs": [],
   "source": [
    "#Find the count of failed months and the number of transitions from failed month to failed month\n",
    "wg_count=[]\n",
    "wg_sev=[]\n",
    "Suc=[]\n",
    "Fail=[]\n",
    "FailFail=[]\n",
    "FailAll=[]\n",
    "pers_pap=[]\n",
    "\n",
    "for cit in wg: #cit is a timeseries of watergaps\n",
    "    Fail.append(np.count_nonzero(cit))\n",
    "    Suc.append(len(cit)-np.count_nonzero(cit))\n",
    "    process=find_seq_maxs(cit)\n",
    "    peaktotal=sum(process[0])\n",
    "    wg_count.append(process[1])\n",
    "    process2=transitions_count(cit)\n",
    "    FailFail=process2[0]\n",
    "    FailAll=process2[1]\n",
    "    pers_pap.append(np.divide(np.array(FailFail),np.array(FailAll)))\n",
    "    wg_sev=peaktotal/wg_count\n",
    "total=len(wg[0])\n",
    "wg_norm_sev=wg_sev/normalizer\n",
    "wg_freq=1-(np.array(Suc))/total\n",
    "wg_pers=pers_pap\n",
    "\n",
    "\n",
    "\n",
    "\n"
   ]
  },
  {
   "cell_type": "code",
   "execution_count": null,
   "id": "ab77c6ab",
   "metadata": {},
   "outputs": [],
   "source": [
    "#Calculate the hazard score based on the geometric mean of the 3 parameters: Severity, Frequency, Persistence\n",
    "hazard=gmean([wg_norm_sev, wg_freq, wg_pers],axis=0)"
   ]
  },
  {
   "cell_type": "code",
   "execution_count": null,
   "id": "7b72d313",
   "metadata": {},
   "outputs": [],
   "source": [
    "hazard_df=pd.DataFrame(data=[wg_norm_sev, wg_freq, wg_pers, hazard], index=['Severity', 'Frequency', 'Persistence', 'Hazard'],columns=stor_df.columns[0:len(hazard)])\n",
    "hazard_df\n"
   ]
  },
  {
   "cell_type": "code",
   "execution_count": null,
   "id": "fc6619ec",
   "metadata": {},
   "outputs": [],
   "source": [
    "print(hazard_df['8675'])\n",
    "print(hazard_df['512'])\n",
    "print(hazard_df['3268'])\n",
    "print(hazard_df['1303'])"
   ]
  },
  {
   "cell_type": "code",
   "execution_count": null,
   "id": "fd93c87b",
   "metadata": {},
   "outputs": [],
   "source": [
    "wg_norm_df=wg_df/normalizer\n",
    "wg_norm_df['Type']='Water Gap'\n",
    "wg_norm_df.to_csv('wgn.csv')\n",
    "wg_norm_df"
   ]
  },
  {
   "cell_type": "code",
   "execution_count": null,
   "id": "985e15d7",
   "metadata": {},
   "outputs": [],
   "source": [
    "stor_df['Type']='Storage'\n",
    "stor_df.to_csv('stor.csv')\n",
    "wg_df['Type']='Water Gap'\n",
    "wg_df.to_csv('wg.csv')\n",
    "hazard_df.to_csv('hazard.csv')"
   ]
  },
  {
   "cell_type": "code",
   "execution_count": null,
   "id": "db54c2b3",
   "metadata": {},
   "outputs": [],
   "source": [
    "# Define Plot\n",
    "def plot_df(df, x, y, title=\"\", xlabel='Date', ylabel='Water gap in m', dpi=100):\n",
    "    plt.figure(figsize=(16,3), dpi=dpi)\n",
    "    plt.plot(x, y, color='tab:red')\n",
    "    plt.gca().set(title=title, xlabel=xlabel, ylabel=ylabel)\n",
    "    plt.show()"
   ]
  },
  {
   "cell_type": "code",
   "execution_count": null,
   "id": "01e4bd0a",
   "metadata": {
    "scrolled": true
   },
   "outputs": [],
   "source": [
    "#Draw inspect plot by year\n",
    "city=8675\n",
    "\n",
    "from matplotlib import rc\n",
    "rc('font',**{'family':'serif','serif':['Times']})\n",
    "rc('text', usetex=True)\n",
    "plotdf=pd.DataFrame(\n",
    "    {'date' : df.index,\n",
    "    'ws' : df[str(city)],\n",
    "    'wg' : wg_df[str(city)]})\n",
    "\n",
    "definesize=(15,3)\n",
    "fig = plt.figure()\n",
    "ax = fig.add_subplot(111)\n",
    "dateticks = pd.date_range('2000', '2007', freq=pd.DateOffset(years=1))\n",
    "plotdf.plot(ax=ax, layout=(1,2), color='#56B4E9', xlim=(plotdf.date[239], plotdf.date[-50]),x='date', y='wg', grid=0, figsize=definesize, ylabel='Water Gap [m]',rot=45)\n",
    "ax.xaxis.set_ticks(dateticks);\n",
    "ax.xaxis.set_ticklabels(dateticks.strftime('%Y'));\n",
    "ax.get_legend().remove();\n",
    "image_name = 'wg_zoom.png'\n",
    "image_format= 'png'\n",
    "#fig.savefig(image_name, format=image_format, dpi=300)\n",
    "\n"
   ]
  },
  {
   "cell_type": "code",
   "execution_count": null,
   "id": "b0de75fc",
   "metadata": {},
   "outputs": [],
   "source": [
    "city=8675\n",
    "storsample=stor_df[str(city)]\n",
    "wgsample=wg_df[str(city)]\n",
    "plot_df(storsample, x=storsample.index, y=storsample, title='Storage', ylabel='Storage in m') \n",
    "plot_df(wgsample, x=wgsample.index, y=wgsample, title='Water Gap', ylabel='Water Gap in m') \n",
    "\n",
    "%matplotlib inline\n",
    "plt.rcParams.update({'figure.figsize':(7,5), 'figure.dpi':300})\n"
   ]
  }
 ],
 "metadata": {
  "kernelspec": {
   "display_name": "Python 3.9.7 ('base')",
   "language": "python",
   "name": "python3"
  },
  "language_info": {
   "codemirror_mode": {
    "name": "ipython",
    "version": 3
   },
   "file_extension": ".py",
   "mimetype": "text/x-python",
   "name": "python",
   "nbconvert_exporter": "python",
   "pygments_lexer": "ipython3",
   "version": "3.9.7"
  },
  "vscode": {
   "interpreter": {
    "hash": "1f80d2fd62e10cfe9b7e0b0ca7092dfa78c3185d519712806b070ca4f85a46ae"
   }
  }
 },
 "nbformat": 4,
 "nbformat_minor": 5
}
